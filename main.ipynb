{
 "cells": [
  {
   "cell_type": "code",
   "execution_count": 1,
   "id": "1987a2a0-90b7-4a77-94ee-0011d0709fcf",
   "metadata": {},
   "outputs": [],
   "source": [
    "from pyspark.sql import SparkSession\n",
    "import pyspark.sql.functions as F\n",
    "import pandas as pd\n",
    "import seaborn as sns\n",
    "import matplotlib.pyplot as plt"
   ]
  },
  {
   "cell_type": "code",
   "execution_count": 2,
   "id": "0b820b46-2808-447d-9d02-61a5b5d8bc54",
   "metadata": {},
   "outputs": [],
   "source": [
    "spark = SparkSession.builder.appName(\"MySparkApp\").getOrCreate()"
   ]
  },
  {
   "cell_type": "code",
   "execution_count": 3,
   "id": "e68e9d77-9a09-4e03-b97a-87a138de4721",
   "metadata": {},
   "outputs": [],
   "source": [
    "df = spark.read.csv('rotten_tomatoes_movies.csv', header=True, inferSchema=True)"
   ]
  },
  {
   "cell_type": "code",
   "execution_count": 4,
   "id": "98fce9a0-cb9a-4920-bb69-fda4d1407acf",
   "metadata": {},
   "outputs": [
    {
     "name": "stdout",
     "output_type": "stream",
     "text": [
      "+--------------------+--------------------+-------------+-----------+------+--------------------+-------------------+--------------------+--------------+--------------------+----------------+--------------------+--------------------+---------+-----------+--------+\n",
      "|                  id|               title|audienceScore|tomatoMeter|rating|      ratingContents|releaseDateTheaters|releaseDateStreaming|runtimeMinutes|               genre|originalLanguage|            director|              writer|boxOffice|distributor|soundMix|\n",
      "+--------------------+--------------------+-------------+-----------+------+--------------------+-------------------+--------------------+--------------+--------------------+----------------+--------------------+--------------------+---------+-----------+--------+\n",
      "|  space-zombie-bingo| Space Zombie Bingo!|           50|       NULL|  NULL|                NULL|               NULL|          2018-08-25|            75|Comedy, Horror, S...|         English|       George Ormrod|George Ormrod,Joh...|     NULL|       NULL|    NULL|\n",
      "|     the_green_grass|     The Green Grass|         NULL|       NULL|  NULL|                NULL|               NULL|          2020-02-11|           114|               Drama|         English|     Tiffany Edwards|     Tiffany Edwards|     NULL|       NULL|    NULL|\n",
      "|           love_lies|          Love, Lies|           43|       NULL|  NULL|                NULL|               NULL|                NULL|           120|               Drama|          Korean|Park Heung-Sik,He...|Ha Young-Joon,Jeo...|     NULL|       NULL|    NULL|\n",
      "|the_sore_losers_1997|         Sore Losers|           60|       NULL|  NULL|                NULL|               NULL|          2020-10-23|            90|Action, Mystery &...|         English|John Michael McCa...|John Michael McCa...|     NULL|       NULL|    NULL|\n",
      "|dinosaur_island_2002|     Dinosaur Island|           70|       NULL|  NULL|                NULL|               NULL|          2017-03-27|            80|Fantasy, Adventur...|         English|       Will Meugniot|            John Loy|     NULL|       NULL|    NULL|\n",
      "|         adrift_2018|              Adrift|           65|         69| PG-13|['Injury Images',...|         2018-06-01|          2018-08-21|           120|Adventure, Drama,...|         English|   Baltasar Kormákur|Aaron Kandell,Jor...|   $31.4M|  STX Films|    NULL|\n",
      "|malta-con-huevo-s...|      Scrambled Beer|           55|       NULL|  NULL|                NULL|               NULL|          2015-10-05|            88|              Comedy|         Spanish|Cristobal Valderrama|Cristobal Valderrama|     NULL|       NULL|    NULL|\n",
      "|    kakabakaba-ka-ba|Kakabakaba ka ba?...|           88|       NULL|  NULL|                NULL|               NULL|                NULL|          NULL|                NULL|            NULL|        Mike de Leon|                NULL|     NULL|       NULL|    NULL|\n",
      "|          sundowning|          Sundowning|         NULL|       NULL|  NULL|                NULL|               NULL|                NULL|           123|               Drama|         English|      Jim Comas Cole|                NULL|     NULL|       NULL|    NULL|\n",
      "|1035316-born_to_kill|        Born to Kill|           74|         83|  NULL|                NULL|         1947-04-30|          2016-05-23|            92|        Crime, Drama|         English|         Robert Wise|Eve Greene,Richar...|     NULL|       NULL|    NULL|\n",
      "+--------------------+--------------------+-------------+-----------+------+--------------------+-------------------+--------------------+--------------+--------------------+----------------+--------------------+--------------------+---------+-----------+--------+\n",
      "only showing top 10 rows\n",
      "\n"
     ]
    }
   ],
   "source": [
    "df.show(10)"
   ]
  },
  {
   "cell_type": "code",
   "execution_count": 5,
   "id": "9ff655f0-44f4-432e-8180-411e993c89be",
   "metadata": {},
   "outputs": [
    {
     "name": "stdout",
     "output_type": "stream",
     "text": [
      "-RECORD 0---------------------\n",
      " audienceScore       | 70010  \n",
      " tomatoMeter         | 109381 \n",
      " releaseDateTheaters | 112485 \n",
      "\n"
     ]
    }
   ],
   "source": [
    "missing_values = df.select([F.count(F.when(F.col(c).isNull(), c)).alias(c) for c in ['audienceScore', 'tomatoMeter', 'releaseDateTheaters']])\n",
    "missing_values.show(vertical=True)"
   ]
  },
  {
   "cell_type": "code",
   "execution_count": 6,
   "id": "600cea83-57bf-44fe-a510-4348fb974463",
   "metadata": {},
   "outputs": [],
   "source": [
    "df = df.na.drop(subset=['audienceScore', 'tomatoMeter', 'releaseDateTheaters'])"
   ]
  },
  {
   "cell_type": "code",
   "execution_count": 7,
   "id": "a5469f04-f8aa-49f6-8c0d-c8e5b5782c6f",
   "metadata": {},
   "outputs": [
    {
     "name": "stdout",
     "output_type": "stream",
     "text": [
      "-RECORD 0------------------\n",
      " audienceScore       | 0   \n",
      " tomatoMeter         | 0   \n",
      " releaseDateTheaters | 0   \n",
      "\n"
     ]
    }
   ],
   "source": [
    "missing_values = df.select([F.count(F.when(F.col(c).isNull(), c)).alias(c) for c in ['audienceScore', 'tomatoMeter', 'releaseDateTheaters']])\n",
    "missing_values.show(vertical=True)"
   ]
  },
  {
   "cell_type": "code",
   "execution_count": 8,
   "id": "a627c585-5371-441c-8788-5471801a67f8",
   "metadata": {},
   "outputs": [],
   "source": [
    "df = df.withColumn('year', F.year(df.releaseDateTheaters))"
   ]
  },
  {
   "cell_type": "code",
   "execution_count": 9,
   "id": "8e704c89-af52-4bf1-8aec-fab895a91eb7",
   "metadata": {},
   "outputs": [
    {
     "name": "stdout",
     "output_type": "stream",
     "text": [
      "+----+\n",
      "|year|\n",
      "+----+\n",
      "|2018|\n",
      "|1947|\n",
      "|2009|\n",
      "|2011|\n",
      "|2005|\n",
      "|2017|\n",
      "|1963|\n",
      "|1996|\n",
      "|2009|\n",
      "|1991|\n",
      "|2002|\n",
      "|2017|\n",
      "|2022|\n",
      "|2015|\n",
      "|1993|\n",
      "|2012|\n",
      "|2019|\n",
      "|2017|\n",
      "|2014|\n",
      "|2004|\n",
      "+----+\n",
      "only showing top 20 rows\n",
      "\n"
     ]
    }
   ],
   "source": [
    "df.select('year').show()"
   ]
  },
  {
   "cell_type": "code",
   "execution_count": 10,
   "id": "4d61066a-26ec-48f8-ac0f-5af32363812f",
   "metadata": {},
   "outputs": [],
   "source": [
    "df = df.orderBy(F.desc('tomatoMeter'), F.asc('title')).limit(5000)"
   ]
  },
  {
   "cell_type": "code",
   "execution_count": 11,
   "id": "10425212-3d68-4f5e-ab67-f99d572661ce",
   "metadata": {},
   "outputs": [
    {
     "name": "stdout",
     "output_type": "stream",
     "text": [
      "+-----------+--------------------+\n",
      "|tomatoMeter|               title|\n",
      "+-----------+--------------------+\n",
      "|        100|\"J.R. \"\"Bob\"\" Dob...|\n",
      "|        100|                 '96|\n",
      "|        100|100 Years of Men ...|\n",
      "|        100|               11:55|\n",
      "|        100|        12 Angry Men|\n",
      "|        100|            16 Acres|\n",
      "|        100|2022 Oscar Nomina...|\n",
      "|        100|                2LDK|\n",
      "|        100|                  36|\n",
      "|        100|      4 Little Girls|\n",
      "|        100|             5-25-77|\n",
      "|        100|                  5B|\n",
      "|        100|             76 Days|\n",
      "|        100|     99 River Street|\n",
      "|        100|  A Beautiful Planet|\n",
      "|        100|     A Bigger Splash|\n",
      "|        100|    A Brother's Kiss|\n",
      "|        100|   A Christmas Carol|\n",
      "|        100|   A City of Sadness|\n",
      "|        100|A Crime on the Bayou|\n",
      "+-----------+--------------------+\n",
      "only showing top 20 rows\n",
      "\n"
     ]
    }
   ],
   "source": [
    "df.select(['tomatoMeter', 'title']).show()"
   ]
  },
  {
   "cell_type": "code",
   "execution_count": 12,
   "id": "477083c5-f400-4140-a450-9ccc28f560c9",
   "metadata": {},
   "outputs": [],
   "source": [
    "df.write.parquet('movies.parquet', mode='overwrite')"
   ]
  },
  {
   "cell_type": "code",
   "execution_count": 13,
   "id": "d10257cf-6043-46e8-88a5-4edc7035883f",
   "metadata": {},
   "outputs": [
    {
     "data": {
      "text/html": [
       "<div>\n",
       "<style scoped>\n",
       "    .dataframe tbody tr th:only-of-type {\n",
       "        vertical-align: middle;\n",
       "    }\n",
       "\n",
       "    .dataframe tbody tr th {\n",
       "        vertical-align: top;\n",
       "    }\n",
       "\n",
       "    .dataframe thead th {\n",
       "        text-align: right;\n",
       "    }\n",
       "</style>\n",
       "<table border=\"1\" class=\"dataframe\">\n",
       "  <thead>\n",
       "    <tr style=\"text-align: right;\">\n",
       "      <th></th>\n",
       "      <th>id</th>\n",
       "      <th>title</th>\n",
       "      <th>audienceScore</th>\n",
       "      <th>tomatoMeter</th>\n",
       "      <th>rating</th>\n",
       "      <th>ratingContents</th>\n",
       "      <th>releaseDateTheaters</th>\n",
       "      <th>releaseDateStreaming</th>\n",
       "      <th>runtimeMinutes</th>\n",
       "      <th>genre</th>\n",
       "      <th>originalLanguage</th>\n",
       "      <th>director</th>\n",
       "      <th>writer</th>\n",
       "      <th>boxOffice</th>\n",
       "      <th>distributor</th>\n",
       "      <th>soundMix</th>\n",
       "      <th>year</th>\n",
       "    </tr>\n",
       "  </thead>\n",
       "  <tbody>\n",
       "    <tr>\n",
       "      <th>0</th>\n",
       "      <td>jr_bob_dobbs_and_the_church_of_the_subgenius</td>\n",
       "      <td>\"J.R. \"\"Bob\"\" Dobbs &amp; The Church of the SubGen...</td>\n",
       "      <td>36</td>\n",
       "      <td>100</td>\n",
       "      <td>None</td>\n",
       "      <td>None</td>\n",
       "      <td>2020-10-16</td>\n",
       "      <td>2020-10-20</td>\n",
       "      <td>80.0</td>\n",
       "      <td>Documentary, Comedy</td>\n",
       "      <td>English</td>\n",
       "      <td>Sandy K. Boone</td>\n",
       "      <td>Sandy K. Boone,Jason Wehling</td>\n",
       "      <td>None</td>\n",
       "      <td>Dark Star Pictures</td>\n",
       "      <td>None</td>\n",
       "      <td>2020</td>\n",
       "    </tr>\n",
       "    <tr>\n",
       "      <th>1</th>\n",
       "      <td>96</td>\n",
       "      <td>'96</td>\n",
       "      <td>89</td>\n",
       "      <td>100</td>\n",
       "      <td>None</td>\n",
       "      <td>None</td>\n",
       "      <td>2018-10-03</td>\n",
       "      <td>None</td>\n",
       "      <td>158.0</td>\n",
       "      <td>Romance</td>\n",
       "      <td>Tamil</td>\n",
       "      <td>C. Premkumar</td>\n",
       "      <td>C. Premkumar</td>\n",
       "      <td>$234.2K</td>\n",
       "      <td>None</td>\n",
       "      <td>None</td>\n",
       "      <td>2018</td>\n",
       "    </tr>\n",
       "    <tr>\n",
       "      <th>2</th>\n",
       "      <td>100_years_of_men_in_love</td>\n",
       "      <td>100 Years of Men in Love: The Accidental Colle...</td>\n",
       "      <td>55</td>\n",
       "      <td>100</td>\n",
       "      <td>None</td>\n",
       "      <td>None</td>\n",
       "      <td>2022-03-23</td>\n",
       "      <td>2022-03-25</td>\n",
       "      <td>57.0</td>\n",
       "      <td>Documentary, History, Lgbtq+</td>\n",
       "      <td>English</td>\n",
       "      <td>David Millbern</td>\n",
       "      <td>David Millbern</td>\n",
       "      <td>None</td>\n",
       "      <td>Here TV</td>\n",
       "      <td>None</td>\n",
       "      <td>2022</td>\n",
       "    </tr>\n",
       "    <tr>\n",
       "      <th>3</th>\n",
       "      <td>1155</td>\n",
       "      <td>11:55</td>\n",
       "      <td>80</td>\n",
       "      <td>100</td>\n",
       "      <td>None</td>\n",
       "      <td>None</td>\n",
       "      <td>2017-06-09</td>\n",
       "      <td>2017-06-09</td>\n",
       "      <td>80.0</td>\n",
       "      <td>Crime, Drama</td>\n",
       "      <td>English</td>\n",
       "      <td>Ari Issler,Ben Snyder</td>\n",
       "      <td>Victor Almanzar,Ari Issler,Ben Snyder</td>\n",
       "      <td>None</td>\n",
       "      <td>Gravitas Ventures</td>\n",
       "      <td>None</td>\n",
       "      <td>2017</td>\n",
       "    </tr>\n",
       "    <tr>\n",
       "      <th>4</th>\n",
       "      <td>1000013_12_angry_men</td>\n",
       "      <td>12 Angry Men</td>\n",
       "      <td>97</td>\n",
       "      <td>100</td>\n",
       "      <td>None</td>\n",
       "      <td>None</td>\n",
       "      <td>1957-04-20</td>\n",
       "      <td>2008-03-04</td>\n",
       "      <td>95.0</td>\n",
       "      <td>Drama</td>\n",
       "      <td>English</td>\n",
       "      <td>Sidney Lumet</td>\n",
       "      <td>Reginald Rose</td>\n",
       "      <td>None</td>\n",
       "      <td>Criterion Collection, MGM/UA Home Entertainmen...</td>\n",
       "      <td>None</td>\n",
       "      <td>1957</td>\n",
       "    </tr>\n",
       "  </tbody>\n",
       "</table>\n",
       "</div>"
      ],
      "text/plain": [
       "                                             id  \\\n",
       "0  jr_bob_dobbs_and_the_church_of_the_subgenius   \n",
       "1                                            96   \n",
       "2                      100_years_of_men_in_love   \n",
       "3                                          1155   \n",
       "4                          1000013_12_angry_men   \n",
       "\n",
       "                                               title  audienceScore  \\\n",
       "0  \"J.R. \"\"Bob\"\" Dobbs & The Church of the SubGen...             36   \n",
       "1                                                '96             89   \n",
       "2  100 Years of Men in Love: The Accidental Colle...             55   \n",
       "3                                              11:55             80   \n",
       "4                                       12 Angry Men             97   \n",
       "\n",
       "   tomatoMeter rating ratingContents releaseDateTheaters releaseDateStreaming  \\\n",
       "0          100   None           None          2020-10-16           2020-10-20   \n",
       "1          100   None           None          2018-10-03                 None   \n",
       "2          100   None           None          2022-03-23           2022-03-25   \n",
       "3          100   None           None          2017-06-09           2017-06-09   \n",
       "4          100   None           None          1957-04-20           2008-03-04   \n",
       "\n",
       "   runtimeMinutes                         genre originalLanguage  \\\n",
       "0            80.0           Documentary, Comedy          English   \n",
       "1           158.0                       Romance            Tamil   \n",
       "2            57.0  Documentary, History, Lgbtq+          English   \n",
       "3            80.0                  Crime, Drama          English   \n",
       "4            95.0                         Drama          English   \n",
       "\n",
       "                director                                 writer boxOffice  \\\n",
       "0         Sandy K. Boone           Sandy K. Boone,Jason Wehling      None   \n",
       "1           C. Premkumar                           C. Premkumar   $234.2K   \n",
       "2         David Millbern                         David Millbern      None   \n",
       "3  Ari Issler,Ben Snyder  Victor Almanzar,Ari Issler,Ben Snyder      None   \n",
       "4           Sidney Lumet                          Reginald Rose      None   \n",
       "\n",
       "                                         distributor soundMix  year  \n",
       "0                                 Dark Star Pictures     None  2020  \n",
       "1                                               None     None  2018  \n",
       "2                                            Here TV     None  2022  \n",
       "3                                  Gravitas Ventures     None  2017  \n",
       "4  Criterion Collection, MGM/UA Home Entertainmen...     None  1957  "
      ]
     },
     "execution_count": 13,
     "metadata": {},
     "output_type": "execute_result"
    }
   ],
   "source": [
    "df = pd.read_parquet('movies.parquet')\n",
    "df.head()"
   ]
  },
  {
   "cell_type": "code",
   "execution_count": 14,
   "id": "584b6b63-a3b7-4373-93b6-7b29cb04e628",
   "metadata": {},
   "outputs": [
    {
     "data": {
      "text/plain": [
       "Text(0.5, 1.0, 'Audience Score vs Tomato Meter')"
      ]
     },
     "execution_count": 14,
     "metadata": {},
     "output_type": "execute_result"
    },
    {
     "data": {
      "image/png": "[encoded data removed]",
      "text/plain": [
       "<Figure size 640x480 with 1 Axes>"
      ]
     },
     "metadata": {},
     "output_type": "display_data"
    }
   ],
   "source": [
    "fig, ax = plt.subplots()\n",
    "ax.scatter(x=df.audienceScore, y=df.tomatoMeter)\n",
    "ax.set_xlabel('Audience Score')\n",
    "ax.set_ylabel('Tomato Meter')\n",
    "plt.title('Audience Score vs Tomato Meter')"
   ]
  },
  {
   "cell_type": "code",
   "execution_count": 15,
   "id": "577ea164-d22a-4a97-9b13-cf5f0fc3a659",
   "metadata": {},
   "outputs": [
    {
     "data": {
      "text/html": [
       "<div>\n",
       "<style scoped>\n",
       "    .dataframe tbody tr th:only-of-type {\n",
       "        vertical-align: middle;\n",
       "    }\n",
       "\n",
       "    .dataframe tbody tr th {\n",
       "        vertical-align: top;\n",
       "    }\n",
       "\n",
       "    .dataframe thead th {\n",
       "        text-align: right;\n",
       "    }\n",
       "</style>\n",
       "<table border=\"1\" class=\"dataframe\">\n",
       "  <thead>\n",
       "    <tr style=\"text-align: right;\">\n",
       "      <th></th>\n",
       "      <th>year</th>\n",
       "      <th>tomatoMeter</th>\n",
       "      <th>audienceScore</th>\n",
       "    </tr>\n",
       "  </thead>\n",
       "  <tbody>\n",
       "    <tr>\n",
       "      <th>0</th>\n",
       "      <td>1902</td>\n",
       "      <td>100.000000</td>\n",
       "      <td>90.000000</td>\n",
       "    </tr>\n",
       "    <tr>\n",
       "      <th>1</th>\n",
       "      <td>1914</td>\n",
       "      <td>90.000000</td>\n",
       "      <td>42.000000</td>\n",
       "    </tr>\n",
       "    <tr>\n",
       "      <th>2</th>\n",
       "      <td>1915</td>\n",
       "      <td>93.666667</td>\n",
       "      <td>56.666667</td>\n",
       "    </tr>\n",
       "    <tr>\n",
       "      <th>3</th>\n",
       "      <td>1916</td>\n",
       "      <td>93.000000</td>\n",
       "      <td>78.500000</td>\n",
       "    </tr>\n",
       "    <tr>\n",
       "      <th>4</th>\n",
       "      <td>1919</td>\n",
       "      <td>95.000000</td>\n",
       "      <td>69.000000</td>\n",
       "    </tr>\n",
       "    <tr>\n",
       "      <th>...</th>\n",
       "      <td>...</td>\n",
       "      <td>...</td>\n",
       "      <td>...</td>\n",
       "    </tr>\n",
       "    <tr>\n",
       "      <th>104</th>\n",
       "      <td>2019</td>\n",
       "      <td>94.333333</td>\n",
       "      <td>76.890244</td>\n",
       "    </tr>\n",
       "    <tr>\n",
       "      <th>105</th>\n",
       "      <td>2020</td>\n",
       "      <td>93.765517</td>\n",
       "      <td>74.889655</td>\n",
       "    </tr>\n",
       "    <tr>\n",
       "      <th>106</th>\n",
       "      <td>2021</td>\n",
       "      <td>94.415638</td>\n",
       "      <td>75.637860</td>\n",
       "    </tr>\n",
       "    <tr>\n",
       "      <th>107</th>\n",
       "      <td>2022</td>\n",
       "      <td>94.167382</td>\n",
       "      <td>79.283262</td>\n",
       "    </tr>\n",
       "    <tr>\n",
       "      <th>108</th>\n",
       "      <td>2023</td>\n",
       "      <td>93.550000</td>\n",
       "      <td>79.500000</td>\n",
       "    </tr>\n",
       "  </tbody>\n",
       "</table>\n",
       "<p>109 rows × 3 columns</p>\n",
       "</div>"
      ],
      "text/plain": [
       "     year  tomatoMeter  audienceScore\n",
       "0    1902   100.000000      90.000000\n",
       "1    1914    90.000000      42.000000\n",
       "2    1915    93.666667      56.666667\n",
       "3    1916    93.000000      78.500000\n",
       "4    1919    95.000000      69.000000\n",
       "..    ...          ...            ...\n",
       "104  2019    94.333333      76.890244\n",
       "105  2020    93.765517      74.889655\n",
       "106  2021    94.415638      75.637860\n",
       "107  2022    94.167382      79.283262\n",
       "108  2023    93.550000      79.500000\n",
       "\n",
       "[109 rows x 3 columns]"
      ]
     },
     "execution_count": 15,
     "metadata": {},
     "output_type": "execute_result"
    }
   ],
   "source": [
    "avg_score_year = df.groupby('year')[['tomatoMeter', 'audienceScore']].mean().reset_index()\n",
    "avg_score_year"
   ]
  },
  {
   "cell_type": "code",
   "execution_count": 16,
   "id": "ec8d9395-d183-43fd-aa62-82181ab420ed",
   "metadata": {},
   "outputs": [
    {
     "data": {
      "text/plain": [
       "<matplotlib.legend.Legend at 0x7f53301e9090>"
      ]
     },
     "execution_count": 16,
     "metadata": {},
     "output_type": "execute_result"
    },
    {
     "data": {
      "image/png": "[encoded data removed]",
      "text/plain": [
       "<Figure size 640x480 with 1 Axes>"
      ]
     },
     "metadata": {},
     "output_type": "display_data"
    }
   ],
   "source": [
    "sns.lineplot(data=avg_score_year, x='year', y='tomatoMeter', label='Tomato Meter')\n",
    "sns.lineplot(data=avg_score_year, x='year', y='audienceScore', label='Audience Score')\n",
    "plt.legend()"
   ]
  },
  {
   "cell_type": "code",
   "execution_count": 17,
   "id": "ec4dddf3-f6fb-452b-981d-65d0389c937b",
   "metadata": {},
   "outputs": [
    {
     "data": {
      "text/html": [
       "<div>\n",
       "<style scoped>\n",
       "    .dataframe tbody tr th:only-of-type {\n",
       "        vertical-align: middle;\n",
       "    }\n",
       "\n",
       "    .dataframe tbody tr th {\n",
       "        vertical-align: top;\n",
       "    }\n",
       "\n",
       "    .dataframe thead th {\n",
       "        text-align: right;\n",
       "    }\n",
       "</style>\n",
       "<table border=\"1\" class=\"dataframe\">\n",
       "  <thead>\n",
       "    <tr style=\"text-align: right;\">\n",
       "      <th></th>\n",
       "      <th>originalLanguage</th>\n",
       "      <th>tomatoMeter</th>\n",
       "      <th>audienceScore</th>\n",
       "    </tr>\n",
       "  </thead>\n",
       "  <tbody>\n",
       "    <tr>\n",
       "      <th>2</th>\n",
       "      <td>Arabic</td>\n",
       "      <td>93.893617</td>\n",
       "      <td>81.021277</td>\n",
       "    </tr>\n",
       "    <tr>\n",
       "      <th>9</th>\n",
       "      <td>Chinese</td>\n",
       "      <td>93.917526</td>\n",
       "      <td>79.402062</td>\n",
       "    </tr>\n",
       "    <tr>\n",
       "      <th>15</th>\n",
       "      <td>English</td>\n",
       "      <td>93.734092</td>\n",
       "      <td>78.606246</td>\n",
       "    </tr>\n",
       "    <tr>\n",
       "      <th>21</th>\n",
       "      <td>French</td>\n",
       "      <td>94.000000</td>\n",
       "      <td>92.000000</td>\n",
       "    </tr>\n",
       "    <tr>\n",
       "      <th>61</th>\n",
       "      <td>Spanish</td>\n",
       "      <td>93.415842</td>\n",
       "      <td>75.722772</td>\n",
       "    </tr>\n",
       "    <tr>\n",
       "      <th>76</th>\n",
       "      <td>Yiddish</td>\n",
       "      <td>97.500000</td>\n",
       "      <td>64.500000</td>\n",
       "    </tr>\n",
       "  </tbody>\n",
       "</table>\n",
       "</div>"
      ],
      "text/plain": [
       "   originalLanguage  tomatoMeter  audienceScore\n",
       "2            Arabic    93.893617      81.021277\n",
       "9           Chinese    93.917526      79.402062\n",
       "15          English    93.734092      78.606246\n",
       "21           French    94.000000      92.000000\n",
       "61          Spanish    93.415842      75.722772\n",
       "76          Yiddish    97.500000      64.500000"
      ]
     },
     "execution_count": 17,
     "metadata": {},
     "output_type": "execute_result"
    }
   ],
   "source": [
    "score_by_language = df.groupby('originalLanguage')[['tomatoMeter', 'audienceScore']].mean().reset_index()\n",
    "score_by_language = score_by_language.loc[score_by_language['originalLanguage'].isin(['Arabic', 'Yiddish', 'English', 'Chinese', 'Spanish', 'French'])]\n",
    "score_by_language"
   ]
  },
  {
   "cell_type": "code",
   "execution_count": 19,
   "id": "48f14c78-0ed6-4b9a-b318-69d0398a5fb5",
   "metadata": {},
   "outputs": [
    {
     "data": {
      "text/html": [
       "<div>\n",
       "<style scoped>\n",
       "    .dataframe tbody tr th:only-of-type {\n",
       "        vertical-align: middle;\n",
       "    }\n",
       "\n",
       "    .dataframe tbody tr th {\n",
       "        vertical-align: top;\n",
       "    }\n",
       "\n",
       "    .dataframe thead th {\n",
       "        text-align: right;\n",
       "    }\n",
       "</style>\n",
       "<table border=\"1\" class=\"dataframe\">\n",
       "  <thead>\n",
       "    <tr style=\"text-align: right;\">\n",
       "      <th></th>\n",
       "      <th>originalLanguage</th>\n",
       "      <th>type</th>\n",
       "      <th>score</th>\n",
       "    </tr>\n",
       "  </thead>\n",
       "  <tbody>\n",
       "    <tr>\n",
       "      <th>0</th>\n",
       "      <td>Arabic</td>\n",
       "      <td>tomatoMeter</td>\n",
       "      <td>93.893617</td>\n",
       "    </tr>\n",
       "    <tr>\n",
       "      <th>1</th>\n",
       "      <td>Chinese</td>\n",
       "      <td>tomatoMeter</td>\n",
       "      <td>93.917526</td>\n",
       "    </tr>\n",
       "    <tr>\n",
       "      <th>2</th>\n",
       "      <td>English</td>\n",
       "      <td>tomatoMeter</td>\n",
       "      <td>93.734092</td>\n",
       "    </tr>\n",
       "    <tr>\n",
       "      <th>3</th>\n",
       "      <td>French</td>\n",
       "      <td>tomatoMeter</td>\n",
       "      <td>94.000000</td>\n",
       "    </tr>\n",
       "    <tr>\n",
       "      <th>4</th>\n",
       "      <td>Spanish</td>\n",
       "      <td>tomatoMeter</td>\n",
       "      <td>93.415842</td>\n",
       "    </tr>\n",
       "    <tr>\n",
       "      <th>5</th>\n",
       "      <td>Yiddish</td>\n",
       "      <td>tomatoMeter</td>\n",
       "      <td>97.500000</td>\n",
       "    </tr>\n",
       "    <tr>\n",
       "      <th>6</th>\n",
       "      <td>Arabic</td>\n",
       "      <td>audienceScore</td>\n",
       "      <td>81.021277</td>\n",
       "    </tr>\n",
       "    <tr>\n",
       "      <th>7</th>\n",
       "      <td>Chinese</td>\n",
       "      <td>audienceScore</td>\n",
       "      <td>79.402062</td>\n",
       "    </tr>\n",
       "    <tr>\n",
       "      <th>8</th>\n",
       "      <td>English</td>\n",
       "      <td>audienceScore</td>\n",
       "      <td>78.606246</td>\n",
       "    </tr>\n",
       "    <tr>\n",
       "      <th>9</th>\n",
       "      <td>French</td>\n",
       "      <td>audienceScore</td>\n",
       "      <td>92.000000</td>\n",
       "    </tr>\n",
       "    <tr>\n",
       "      <th>10</th>\n",
       "      <td>Spanish</td>\n",
       "      <td>audienceScore</td>\n",
       "      <td>75.722772</td>\n",
       "    </tr>\n",
       "    <tr>\n",
       "      <th>11</th>\n",
       "      <td>Yiddish</td>\n",
       "      <td>audienceScore</td>\n",
       "      <td>64.500000</td>\n",
       "    </tr>\n",
       "  </tbody>\n",
       "</table>\n",
       "</div>"
      ],
      "text/plain": [
       "   originalLanguage           type      score\n",
       "0            Arabic    tomatoMeter  93.893617\n",
       "1           Chinese    tomatoMeter  93.917526\n",
       "2           English    tomatoMeter  93.734092\n",
       "3            French    tomatoMeter  94.000000\n",
       "4           Spanish    tomatoMeter  93.415842\n",
       "5           Yiddish    tomatoMeter  97.500000\n",
       "6            Arabic  audienceScore  81.021277\n",
       "7           Chinese  audienceScore  79.402062\n",
       "8           English  audienceScore  78.606246\n",
       "9            French  audienceScore  92.000000\n",
       "10          Spanish  audienceScore  75.722772\n",
       "11          Yiddish  audienceScore  64.500000"
      ]
     },
     "execution_count": 19,
     "metadata": {},
     "output_type": "execute_result"
    }
   ],
   "source": [
    "languages_melted = pd.melt(score_by_language, id_vars=['originalLanguage'], value_vars=['tomatoMeter', 'audienceScore'], var_name='type', value_name='score')\n",
    "languages_melted"
   ]
  },
  {
   "cell_type": "code",
   "execution_count": 21,
   "id": "6cd6f5e4-5a1d-4d97-ac1a-42cbf38b507c",
   "metadata": {},
   "outputs": [
    {
     "data": {
      "text/plain": [
       "<Axes: xlabel='originalLanguage', ylabel='score'>"
      ]
     },
     "execution_count": 21,
     "metadata": {},
     "output_type": "execute_result"
    },
    {
     "data": {
      "image/png": "[encoded data removed]",
      "text/plain": [
       "<Figure size 640x480 with 1 Axes>"
      ]
     },
     "metadata": {},
     "output_type": "display_data"
    }
   ],
   "source": [
    "sns.barplot(data=languages_melted, x='originalLanguage', y='score', hue='type')"
   ]
  },
  {
   "cell_type": "code",
   "execution_count": null,
   "id": "57270a55-f76b-47a5-96c2-d01e1c57f565",
   "metadata": {},
   "outputs": [],
   "source": []
  }
 ],
 "metadata": {
  "kernelspec": {
   "display_name": "Python 3 (ipykernel)",
   "language": "python",
   "name": "python3"
  },
  "language_info": {
   "codemirror_mode": {
    "name": "ipython",
    "version": 3
   },
   "file_extension": ".py",
   "mimetype": "text/x-python",
   "name": "python",
   "nbconvert_exporter": "python",
   "pygments_lexer": "ipython3",
   "version": "3.11.6"
  }
 },
 "nbformat": 4,
 "nbformat_minor": 5
}
